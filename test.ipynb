{
 "cells": [
  {
   "cell_type": "code",
   "execution_count": 1,
   "metadata": {},
   "outputs": [
    {
     "name": "stderr",
     "output_type": "stream",
     "text": [
      "/usr/local/lib/python3.8/dist-packages/tqdm/auto.py:21: TqdmWarning: IProgress not found. Please update jupyter and ipywidgets. See https://ipywidgets.readthedocs.io/en/stable/user_install.html\n",
      "  from .autonotebook import tqdm as notebook_tqdm\n"
     ]
    }
   ],
   "source": [
    "import torch\n",
    "import nn"
   ]
  },
  {
   "cell_type": "code",
   "execution_count": 2,
   "metadata": {},
   "outputs": [
    {
     "name": "stdout",
     "output_type": "stream",
     "text": [
      "Success to initialize resnet18 model\n",
      "Total trainable parameters: 1,453,800\n",
      "Success to initialize dresnet18 model\n",
      "Total trainable parameters: 1,431,664\n",
      "Success to initialize psaresnet18 model\n",
      "Total trainable parameters: 1,703,528\n",
      "Success to initialize psadresnet18 model\n",
      "Total trainable parameters: 1,681,392\n",
      "Success to initialize psdresnet18 model\n",
      "Total trainable parameters: 1,721,264\n"
     ]
    }
   ],
   "source": [
    "model1 = nn.Model('resnet18', 200)\n",
    "model2 = nn.Model('dresnet18', 200)\n",
    "model2 = nn.Model('dresnet182', 200)\n",
    "model3 = nn.Model('psaresnet18', 200)\n",
    "# model4 = nn.Model('psaresnet18', 200)\n",
    "model5 = nn.Model('psdresnet18', 200)\n",
    "model5 = nn.Model('psdresnet182', 200)\n",
    "model3 = nn.Model('psadresnet18', 200)\n",
    "model5 = nn.Model('psadresnet182', 200)\n",
    "\n",
    "# model6 = nn.Model('psddresnet182', 200)\n",
    "# model1.count_parameters()\n",
    "# model1.model = model1.model\n",
    "# print()\n",
    "# model2.count_parameters()\n",
    "# model2.model = model2.model"
   ]
  },
  {
   "cell_type": "code",
   "execution_count": null,
   "metadata": {},
   "outputs": [],
   "source": [
    "pasdresnet182\n",
    "psadresnet182"
   ]
  },
  {
   "cell_type": "code",
   "execution_count": 3,
   "metadata": {},
   "outputs": [],
   "source": [
    "a = torch.zeros(1, 3, 64, 64).cuda()"
   ]
  },
  {
   "cell_type": "code",
   "execution_count": 4,
   "metadata": {},
   "outputs": [],
   "source": [
    "model2.model = model2.model.cuda()"
   ]
  },
  {
   "cell_type": "code",
   "execution_count": 6,
   "metadata": {},
   "outputs": [
    {
     "data": {
      "text/plain": [
       "torch.Size([1, 200])"
      ]
     },
     "execution_count": 6,
     "metadata": {},
     "output_type": "execute_result"
    }
   ],
   "source": [
    "model2.model(a).shape"
   ]
  },
  {
   "cell_type": "code",
   "execution_count": 3,
   "metadata": {},
   "outputs": [],
   "source": [
    "import torch.nn as nn\n",
    "import torch"
   ]
  },
  {
   "cell_type": "code",
   "execution_count": 13,
   "metadata": {},
   "outputs": [],
   "source": [
    "c = nn.Conv2d(10, 20, 1, 1, groups=1, bias=False)\n",
    "a = torch.zeros((1, 10, 20, 20))"
   ]
  },
  {
   "cell_type": "code",
   "execution_count": 16,
   "metadata": {},
   "outputs": [
    {
     "data": {
      "text/plain": [
       "True"
      ]
     },
     "execution_count": 16,
     "metadata": {},
     "output_type": "execute_result"
    }
   ],
   "source": [
    "c(a).permute(0, 2, 3, 1).contiguous().is_contiguous()"
   ]
  },
  {
   "cell_type": "code",
   "execution_count": null,
   "metadata": {},
   "outputs": [],
   "source": [
    "# dw31_0.85 사용해서  yolo size 확인하자"
   ]
  },
  {
   "cell_type": "code",
   "execution_count": 1,
   "metadata": {},
   "outputs": [],
   "source": [
    "import os\n",
    "import numpy as np\n",
    "import matplotlib.pyplot as plt"
   ]
  },
  {
   "cell_type": "code",
   "execution_count": 2,
   "metadata": {},
   "outputs": [],
   "source": [
    "path = 'trained_models'\n",
    "models = os.listdir(path)\n",
    "stats = {name:{'recall':[], 'time':[], 'params':[]} for name in set([model[:-2] for model in models])}"
   ]
  },
  {
   "cell_type": "code",
   "execution_count": 3,
   "metadata": {},
   "outputs": [],
   "source": [
    "for model in models:\n",
    "    with open(f'{path}/{model}/model.info', 'r') as f:\n",
    "        text = f.read()\n",
    "\n",
    "    for p, paragraph in enumerate(text.split('\\n\\n')):\n",
    "        for line in paragraph.split('\\n'):\n",
    "            if ':' in line:\n",
    "                k, v = line.split(':')\n",
    "                k, v = k.strip(' '), v.strip(' ')\n",
    "                if p == 0:\n",
    "                    if k == 'model_name':\n",
    "                        model_name = v\n",
    "                    elif k == 'params':\n",
    "                        stats[model_name]['params'] += [int(v)]\n",
    "                \n",
    "                elif p == 1:\n",
    "                    pass\n",
    "\n",
    "                elif p == 2:\n",
    "                    if k == 'process_time':\n",
    "                        stats[model_name]['time'] += [float(v)]\n",
    "                    elif k == 'recall':\n",
    "                        stats[model_name]['recall'] += [float(v)]\n"
   ]
  },
  {
   "cell_type": "code",
   "execution_count": 4,
   "metadata": {},
   "outputs": [
    {
     "name": "stderr",
     "output_type": "stream",
     "text": [
      "/usr/local/lib/python3.8/dist-packages/numpy/core/fromnumeric.py:3464: RuntimeWarning: Mean of empty slice.\n",
      "  return _methods._mean(a, axis=axis, dtype=dtype,\n",
      "/usr/local/lib/python3.8/dist-packages/numpy/core/_methods.py:192: RuntimeWarning: invalid value encountered in scalar divide\n",
      "  ret = ret.dtype.type(ret / rcount)\n"
     ]
    },
    {
     "data": {
      "text/plain": [
       "{'psddresnet18': {'recall': 0.4827, 'time': 0.0036001, 'params': 1670832.0},\n",
       " 'dresnet18': {'recall': 0.4678, 'time': 0.00263701, 'params': 1434040.0},\n",
       " 'psdresnet18': {'recall': 0.4763, 'time': 0.00301258, 'params': 1690592.0},\n",
       " 'psdresnet182': {'recall': 0.478, 'time': 0.00296801, 'params': 1703048.0},\n",
       " 'psddresnet182': {'recall': nan, 'time': nan, 'params': 1752440.0},\n",
       " 'psadresnet182': {'recall': 0.4669, 'time': 0.00341126, 'params': 1752920.0},\n",
       " 'dresnet182': {'recall': 0.4616, 'time': 0.00248244, 'params': 1503192.0},\n",
       " 'psadresnet18': {'recall': 0.4836, 'time': 0.00362619, 'params': 1683768.0}}"
      ]
     },
     "execution_count": 4,
     "metadata": {},
     "output_type": "execute_result"
    }
   ],
   "source": [
    "m_stats = {k:{kk:np.mean(sorted(vv, reverse=True)[:]) for kk, vv in v.items()}for k, v in stats.items()}\n",
    "m_stats"
   ]
  },
  {
   "cell_type": "code",
   "execution_count": 5,
   "metadata": {},
   "outputs": [],
   "source": [
    "def draw_bar(names_list, key='recall'):\n",
    "    name_list = []\n",
    "    x_list = []\n",
    "\n",
    "    w = 0.35\n",
    "    for i, names in enumerate(names_list):\n",
    "        for j, name in enumerate(names):\n",
    "            x = i + w * (j+0.5-len(names)/2)\n",
    "            plt.bar(x, m_stats[name][key], w)\n",
    "            name_list += [name[:-5]]\n",
    "            x_list += [x]\n",
    "\n",
    "    # plt.legend(ncols=2)\n",
    "    plt.ylabel(key)\n",
    "    # plt.xticks([i for i in range(len(names_list))], names_list)\n",
    "    plt.xticks(x_list, name_list)\n",
    "    if key == 'recall':\n",
    "        plt.ylim(0.45, 0.5)\n",
    "    elif key == 'time':\n",
    "        plt.ylim(0.002, 0.004)\n",
    "    elif key == 'params':\n",
    "        plt.ylim(1440000, 1800000)\n",
    "    plt.show()"
   ]
  },
  {
   "cell_type": "code",
   "execution_count": 10,
   "metadata": {},
   "outputs": [],
   "source": [
    "model_names = [\n",
    "               # ['resnet18', 'dresnet18'], \n",
    "               # ['psaresnet18', 'psdresnet18'],\n",
    "               # ['psadresnet18', 'psddresnet18'],\n",
    "               ['dresnet18', 'psdresnet18', 'psadresnet18', 'psddresnet18'],\n",
    "               ['dresnet182', 'psdresnet182', 'psadresnet182', 'psddresnet182']\n",
    "               # ['resnet18', 'psaresnet18', 'psdresnet182', 'psddresnet182']\n",
    "              ]"
   ]
  },
  {
   "cell_type": "code",
   "execution_count": 11,
   "metadata": {},
   "outputs": [
    {
     "data": {
      "image/png": "[encoded data removed]",
      "text/plain": [
       "<Figure size 640x480 with 1 Axes>"
      ]
     },
     "metadata": {},
     "output_type": "display_data"
    }
   ],
   "source": [
    "draw_bar(model_names, key='recall')"
   ]
  },
  {
   "cell_type": "code",
   "execution_count": 12,
   "metadata": {},
   "outputs": [
    {
     "data": {
      "image/png": "[encoded data removed]",
      "text/plain": [
       "<Figure size 640x480 with 1 Axes>"
      ]
     },
     "metadata": {},
     "output_type": "display_data"
    }
   ],
   "source": [
    "draw_bar(model_names, key='time')"
   ]
  },
  {
   "cell_type": "code",
   "execution_count": 21,
   "metadata": {},
   "outputs": [
    {
     "data": {
      "image/png": "[encoded data removed]",
      "text/plain": [
       "<Figure size 640x480 with 1 Axes>"
      ]
     },
     "metadata": {},
     "output_type": "display_data"
    }
   ],
   "source": [
    "draw_bar(model_names, key='params')"
   ]
  },
  {
   "cell_type": "code",
   "execution_count": null,
   "metadata": {},
   "outputs": [],
   "source": [
    "# psd는 그대로, dresnet은 dw_kernel_size를 3으로 바꿔서 해보자\n",
    "# dw을 지우고 dcn의 projection 전 출력을 같은 크기의 1x1conv로 곱해서 modulate해보자\n",
    "# 이거는 별론거 같고 차라리 dcn 밖에서 element-wise multiplication해보자"
   ]
  },
  {
   "cell_type": "code",
   "execution_count": 39,
   "metadata": {},
   "outputs": [],
   "source": [
    "import data\n",
    "import numpy as np\n",
    "import torch"
   ]
  },
  {
   "cell_type": "code",
   "execution_count": 17,
   "metadata": {},
   "outputs": [],
   "source": [
    "class ARGS:\n",
    "    def __init__(self):\n",
    "        self.data = 'tiny-imagenet'\n",
    "        self.imgsz = 64\n",
    "        self.batch_size = 4\n",
    "args = ARGS()"
   ]
  },
  {
   "cell_type": "code",
   "execution_count": 18,
   "metadata": {},
   "outputs": [
    {
     "name": "stdout",
     "output_type": "stream",
     "text": [
      "dataset/tiny-imagenet-200 already exists\n",
      "Success to load tiny-imagenet all dataset\n"
     ]
    }
   ],
   "source": [
    "train_loader, eval_loader, test_loader, nc = data.get_dataloader(args,\n",
    "                                                                     split='all')"
   ]
  },
  {
   "cell_type": "code",
   "execution_count": 19,
   "metadata": {},
   "outputs": [],
   "source": [
    "x, y = next(iter(train_loader))"
   ]
  },
  {
   "cell_type": "code",
   "execution_count": 31,
   "metadata": {},
   "outputs": [
    {
     "data": {
      "text/plain": [
       "(22, 0.9502499999999999, 0.00025)"
      ]
     },
     "execution_count": 31,
     "metadata": {},
     "output_type": "execute_result"
    }
   ],
   "source": [
    "np.argmax(y[0].numpy()), np.max(y[0].numpy()), np.min(y[0].numpy())"
   ]
  },
  {
   "cell_type": "code",
   "execution_count": 32,
   "metadata": {},
   "outputs": [],
   "source": [
    "class Soft_Label():\n",
    "    def __init__(self, p, nc):\n",
    "        self.p = p/nc\n",
    "        self.v = 1 - p + self.p\n",
    "        self.nc = nc\n",
    "\n",
    "    def __call__(self, label):\n",
    "        soft_label = np.zeros([self.nc]) + self.p\n",
    "        soft_label[label] = self.v\n",
    "        return soft_label"
   ]
  },
  {
   "cell_type": "code",
   "execution_count": 33,
   "metadata": {},
   "outputs": [],
   "source": [
    "soft_label = Soft_Label(0.1, 200)"
   ]
  },
  {
   "cell_type": "code",
   "execution_count": 34,
   "metadata": {},
   "outputs": [
    {
     "data": {
      "text/plain": [
       "0.9005"
      ]
     },
     "execution_count": 34,
     "metadata": {},
     "output_type": "execute_result"
    }
   ],
   "source": [
    "np.max(soft_label(0))"
   ]
  },
  {
   "cell_type": "code",
   "execution_count": 62,
   "metadata": {},
   "outputs": [],
   "source": [
    "a = np.zeros([1,200])\n",
    "a[0,0]=1"
   ]
  },
  {
   "cell_type": "code",
   "execution_count": 63,
   "metadata": {},
   "outputs": [],
   "source": [
    "s = torch.nn.Softmax(dim=1)"
   ]
  },
  {
   "cell_type": "code",
   "execution_count": 64,
   "metadata": {},
   "outputs": [
    {
     "data": {
      "text/plain": [
       "tensor([[0.0135, 0.0050, 0.0050, 0.0050, 0.0050, 0.0050, 0.0050, 0.0050, 0.0050,\n",
       "         0.0050, 0.0050, 0.0050, 0.0050, 0.0050, 0.0050, 0.0050, 0.0050, 0.0050,\n",
       "         0.0050, 0.0050, 0.0050, 0.0050, 0.0050, 0.0050, 0.0050, 0.0050, 0.0050,\n",
       "         0.0050, 0.0050, 0.0050, 0.0050, 0.0050, 0.0050, 0.0050, 0.0050, 0.0050,\n",
       "         0.0050, 0.0050, 0.0050, 0.0050, 0.0050, 0.0050, 0.0050, 0.0050, 0.0050,\n",
       "         0.0050, 0.0050, 0.0050, 0.0050, 0.0050, 0.0050, 0.0050, 0.0050, 0.0050,\n",
       "         0.0050, 0.0050, 0.0050, 0.0050, 0.0050, 0.0050, 0.0050, 0.0050, 0.0050,\n",
       "         0.0050, 0.0050, 0.0050, 0.0050, 0.0050, 0.0050, 0.0050, 0.0050, 0.0050,\n",
       "         0.0050, 0.0050, 0.0050, 0.0050, 0.0050, 0.0050, 0.0050, 0.0050, 0.0050,\n",
       "         0.0050, 0.0050, 0.0050, 0.0050, 0.0050, 0.0050, 0.0050, 0.0050, 0.0050,\n",
       "         0.0050, 0.0050, 0.0050, 0.0050, 0.0050, 0.0050, 0.0050, 0.0050, 0.0050,\n",
       "         0.0050, 0.0050, 0.0050, 0.0050, 0.0050, 0.0050, 0.0050, 0.0050, 0.0050,\n",
       "         0.0050, 0.0050, 0.0050, 0.0050, 0.0050, 0.0050, 0.0050, 0.0050, 0.0050,\n",
       "         0.0050, 0.0050, 0.0050, 0.0050, 0.0050, 0.0050, 0.0050, 0.0050, 0.0050,\n",
       "         0.0050, 0.0050, 0.0050, 0.0050, 0.0050, 0.0050, 0.0050, 0.0050, 0.0050,\n",
       "         0.0050, 0.0050, 0.0050, 0.0050, 0.0050, 0.0050, 0.0050, 0.0050, 0.0050,\n",
       "         0.0050, 0.0050, 0.0050, 0.0050, 0.0050, 0.0050, 0.0050, 0.0050, 0.0050,\n",
       "         0.0050, 0.0050, 0.0050, 0.0050, 0.0050, 0.0050, 0.0050, 0.0050, 0.0050,\n",
       "         0.0050, 0.0050, 0.0050, 0.0050, 0.0050, 0.0050, 0.0050, 0.0050, 0.0050,\n",
       "         0.0050, 0.0050, 0.0050, 0.0050, 0.0050, 0.0050, 0.0050, 0.0050, 0.0050,\n",
       "         0.0050, 0.0050, 0.0050, 0.0050, 0.0050, 0.0050, 0.0050, 0.0050, 0.0050,\n",
       "         0.0050, 0.0050, 0.0050, 0.0050, 0.0050, 0.0050, 0.0050, 0.0050, 0.0050,\n",
       "         0.0050, 0.0050]], dtype=torch.float64)"
      ]
     },
     "execution_count": 64,
     "metadata": {},
     "output_type": "execute_result"
    }
   ],
   "source": [
    "s(torch.tensor(a))"
   ]
  },
  {
   "cell_type": "code",
   "execution_count": null,
   "metadata": {},
   "outputs": [],
   "source": []
  }
 ],
 "metadata": {
  "kernelspec": {
   "display_name": "Python 3",
   "language": "python",
   "name": "python3"
  },
  "language_info": {
   "codemirror_mode": {
    "name": "ipython",
    "version": 3
   },
   "file_extension": ".py",
   "mimetype": "text/x-python",
   "name": "python",
   "nbconvert_exporter": "python",
   "pygments_lexer": "ipython3",
   "version": "3.8.20"
  }
 },
 "nbformat": 4,
 "nbformat_minor": 2
}
